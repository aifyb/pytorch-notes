{
 "cells": [
  {
   "cell_type": "markdown",
   "metadata": {},
   "source": [
    "数据加载需要用到两个类 Dataset 和 Dataloader，两个类的作用分别是：\n",
    "\n",
    "- Dataset：将数据加载到内存中，可以通过索引的方式获取数据，给数据编号，提供一种方式获取数据及其标签\n",
    "- Dataloader：将数据分成一个个batch，每个batch的数据量可以自定义，可以打乱数据，可以使用多线程加载数据，为网络提供不同的数据形式"
   ]
  },
  {
   "cell_type": "markdown",
   "metadata": {},
   "source": [
    "常用的数据组织形式：\n",
    "\n",
    "- 文件夹名为类名，每个文件夹中存放属于该类的图片\n",
    "- 数据和标签分开存放，数据和标签一一对应\n",
    "- 文件名中带有标签信息"
   ]
  },
  {
   "cell_type": "code",
   "execution_count": 1,
   "metadata": {},
   "outputs": [],
   "source": [
    "from torch.utils.data import Dataset, DataLoader  # torch.utils 中存放了一些常用的工具类\n",
    "from PIL import Image\n",
    "import os"
   ]
  },
  {
   "cell_type": "code",
   "execution_count": 2,
   "metadata": {},
   "outputs": [],
   "source": [
    "# help(Dataset)"
   ]
  },
  {
   "cell_type": "code",
   "execution_count": 3,
   "metadata": {},
   "outputs": [],
   "source": [
    "# 针对数据集 ants_bees 的数据加载类\n",
    "class AntsBeesDataset(Dataset):\n",
    "    def __init__(self, root_dir, label_dir):\n",
    "        self.root_dir = root_dir\n",
    "        self.label_dir = label_dir\n",
    "        self.path = os.path.join(self.root_dir, self.label_dir)\n",
    "        self.imgs = os.listdir(self.path)\n",
    "\n",
    "\n",
    "    # 重写 __getitem__ 方法，返回数据集中的数据\n",
    "    def __getitem__(self, index):\n",
    "        img_path = os.path.join(self.path, self.imgs[index])\n",
    "        img = Image.open(img_path).convert('RGB')\n",
    "        label = self.label_dir\n",
    "        return img, label\n",
    "    \n",
    "    # 重写 __len__ 方法，返回数据集的大小\n",
    "    def __len__(self):\n",
    "        return len(self.imgs)"
   ]
  },
  {
   "cell_type": "code",
   "execution_count": 4,
   "metadata": {},
   "outputs": [],
   "source": [
    "root_dir = f'ants_bees/train/'\n",
    "ants_label = f'ants'\n",
    "bees_label = f'bees'"
   ]
  },
  {
   "cell_type": "code",
   "execution_count": 5,
   "metadata": {},
   "outputs": [],
   "source": [
    "ants_dataset = AntsBeesDataset(root_dir, ants_label)\n",
    "bees_dataset = AntsBeesDataset(root_dir, bees_label)\n",
    "train_dataset = ants_dataset + bees_dataset"
   ]
  },
  {
   "cell_type": "code",
   "execution_count": 6,
   "metadata": {},
   "outputs": [],
   "source": [
    "img, label = ants_dataset[0]\n",
    "img.show()"
   ]
  },
  {
   "cell_type": "code",
   "execution_count": 7,
   "metadata": {},
   "outputs": [
    {
     "name": "stdout",
     "output_type": "stream",
     "text": [
      "ants_dataset: 124\n",
      "bees_dataset: 121\n",
      "train_dataset: 245\n"
     ]
    }
   ],
   "source": [
    "print(f'ants_dataset: {len(ants_dataset)}')\n",
    "print(f'bees_dataset: {len(bees_dataset)}')\n",
    "print(f'train_dataset: {len(train_dataset)}')"
   ]
  }
 ],
 "metadata": {
  "kernelspec": {
   "display_name": "pyt1.13",
   "language": "python",
   "name": "python3"
  },
  "language_info": {
   "codemirror_mode": {
    "name": "ipython",
    "version": 3
   },
   "file_extension": ".py",
   "mimetype": "text/x-python",
   "name": "python",
   "nbconvert_exporter": "python",
   "pygments_lexer": "ipython3",
   "version": "3.9.16"
  },
  "orig_nbformat": 4
 },
 "nbformat": 4,
 "nbformat_minor": 2
}
