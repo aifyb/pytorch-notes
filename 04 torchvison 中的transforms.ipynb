{
 "cells": [
  {
   "cell_type": "markdown",
   "metadata": {},
   "source": [
    "transforms 对图片进行变换"
   ]
  },
  {
   "cell_type": "code",
   "execution_count": 1,
   "metadata": {},
   "outputs": [],
   "source": [
    "from torchvision import transforms"
   ]
  },
  {
   "cell_type": "markdown",
   "metadata": {},
   "source": [
    "结构与用法： transforms 中为模板类，需要实例化对象才可使用（可以理解为用官方模板创建自己的工具）"
   ]
  },
  {
   "cell_type": "markdown",
   "metadata": {},
   "source": [
    "<img src=\"notes/image/transforms.png\" width=\"500\">\n"
   ]
  },
  {
   "cell_type": "code",
   "execution_count": 2,
   "metadata": {},
   "outputs": [
    {
     "data": {
      "text/plain": [
       "['AugMix',\n",
       " 'AutoAugment',\n",
       " 'AutoAugmentPolicy',\n",
       " 'CenterCrop',\n",
       " 'ColorJitter',\n",
       " 'Compose',\n",
       " 'ConvertImageDtype',\n",
       " 'ElasticTransform',\n",
       " 'FiveCrop',\n",
       " 'GaussianBlur',\n",
       " 'Grayscale',\n",
       " 'InterpolationMode',\n",
       " 'Lambda',\n",
       " 'LinearTransformation',\n",
       " 'Normalize',\n",
       " 'PILToTensor',\n",
       " 'Pad',\n",
       " 'RandAugment',\n",
       " 'RandomAdjustSharpness',\n",
       " 'RandomAffine',\n",
       " 'RandomApply',\n",
       " 'RandomAutocontrast',\n",
       " 'RandomChoice',\n",
       " 'RandomCrop',\n",
       " 'RandomEqualize',\n",
       " 'RandomErasing',\n",
       " 'RandomGrayscale',\n",
       " 'RandomHorizontalFlip',\n",
       " 'RandomInvert',\n",
       " 'RandomOrder',\n",
       " 'RandomPerspective',\n",
       " 'RandomPosterize',\n",
       " 'RandomResizedCrop',\n",
       " 'RandomRotation',\n",
       " 'RandomSolarize',\n",
       " 'RandomVerticalFlip',\n",
       " 'Resize',\n",
       " 'TenCrop',\n",
       " 'ToPILImage',\n",
       " 'ToTensor',\n",
       " 'TrivialAugmentWide',\n",
       " '__builtins__',\n",
       " '__cached__',\n",
       " '__doc__',\n",
       " '__file__',\n",
       " '__loader__',\n",
       " '__name__',\n",
       " '__package__',\n",
       " '__path__',\n",
       " '__spec__',\n",
       " '_pil_constants',\n",
       " '_presets',\n",
       " 'autoaugment',\n",
       " 'functional',\n",
       " 'functional_pil',\n",
       " 'functional_tensor',\n",
       " 'transforms']"
      ]
     },
     "execution_count": 2,
     "metadata": {},
     "output_type": "execute_result"
    }
   ],
   "source": [
    "dir(transforms)"
   ]
  },
  {
   "cell_type": "markdown",
   "metadata": {},
   "source": [
    "常用的工具：\n",
    "- transforms.CenterCrop(size)：中心裁剪\n",
    "- transforms.toTensor()：转换为张量\n",
    "- transforms.resize(size)：调整图片大小"
   ]
  },
  {
   "cell_type": "code",
   "execution_count": 3,
   "metadata": {},
   "outputs": [
    {
     "name": "stdout",
     "output_type": "stream",
     "text": [
      "<class 'PIL.JpegImagePlugin.JpegImageFile'>\n"
     ]
    }
   ],
   "source": [
    "from PIL import Image\n",
    "from torchvision import transforms\n",
    "\n",
    "img = Image.open('refactor/train/image/5650366_e22b7e1065.jpg')\n",
    "print(type(img))"
   ]
  },
  {
   "cell_type": "code",
   "execution_count": 4,
   "metadata": {},
   "outputs": [
    {
     "name": "stdout",
     "output_type": "stream",
     "text": [
      "<class 'torch.Tensor'>\n"
     ]
    }
   ],
   "source": [
    "# 转换为 tensor\n",
    "# img_tensor = transforms.ToTensor()(img)\n",
    "PIL2Tensor = transforms.ToTensor()\n",
    "img_tensor = PIL2Tensor(img)\n",
    "print(type(img_tensor))"
   ]
  },
  {
   "cell_type": "code",
   "execution_count": 5,
   "metadata": {},
   "outputs": [],
   "source": [
    "import cv2\n",
    "from torch.utils.tensorboard.writer import SummaryWriter\n",
    "\n",
    "writer = SummaryWriter('logs/exp4')\n",
    "img_ndarray = cv2.imread('refactor/train/image/5650366_e22b7e1065.jpg')\n",
    "img_tensor = transforms.ToTensor()(img_ndarray)\n",
    "writer.add_image('Tensor', img_tensor, 1)\n",
    "writer.close()"
   ]
  },
  {
   "cell_type": "code",
   "execution_count": 6,
   "metadata": {},
   "outputs": [
    {
     "data": {
      "text/plain": [
       "tensor([[0.4157, 0.4157, 0.4196,  ..., 0.3608, 0.3569, 0.3529],\n",
       "        [0.4196, 0.4157, 0.4196,  ..., 0.3569, 0.3529, 0.3490],\n",
       "        [0.4235, 0.4235, 0.4235,  ..., 0.3608, 0.3569, 0.3529],\n",
       "        ...,\n",
       "        [0.5608, 0.5608, 0.5647,  ..., 0.4392, 0.4392, 0.4392],\n",
       "        [0.5412, 0.5529, 0.5608,  ..., 0.4353, 0.4353, 0.4353],\n",
       "        [0.5333, 0.5412, 0.5608,  ..., 0.4314, 0.4314, 0.4314]])"
      ]
     },
     "execution_count": 6,
     "metadata": {},
     "output_type": "execute_result"
    }
   ],
   "source": [
    "img_tensor[0,:,:]"
   ]
  },
  {
   "cell_type": "markdown",
   "metadata": {},
   "source": [
    "input[channel] = (input[channel] - mean[channel]) / std[channel]"
   ]
  },
  {
   "cell_type": "code",
   "execution_count": 7,
   "metadata": {},
   "outputs": [
    {
     "name": "stdout",
     "output_type": "stream",
     "text": [
      "tensor([[-0.1686, -0.1686, -0.1608,  ..., -0.2784, -0.2863, -0.2941],\n",
      "        [-0.1608, -0.1686, -0.1608,  ..., -0.2863, -0.2941, -0.3020],\n",
      "        [-0.1529, -0.1529, -0.1529,  ..., -0.2784, -0.2863, -0.2941],\n",
      "        ...,\n",
      "        [ 0.1216,  0.1216,  0.1294,  ..., -0.1216, -0.1216, -0.1216],\n",
      "        [ 0.0824,  0.1059,  0.1216,  ..., -0.1294, -0.1294, -0.1294],\n",
      "        [ 0.0667,  0.0824,  0.1216,  ..., -0.1373, -0.1373, -0.1373]])\n"
     ]
    }
   ],
   "source": [
    "# Normalize 使用\n",
    "normalize = transforms.Normalize(mean=[.5, .5, .5], std=[.5, .5, .5])\n",
    "img_norm = normalize(img_tensor)\n",
    "writer.add_image('Normalize', img_norm, 1)\n",
    "print(img_norm[0, :, :])"
   ]
  },
  {
   "cell_type": "code",
   "execution_count": 8,
   "metadata": {},
   "outputs": [
    {
     "name": "stdout",
     "output_type": "stream",
     "text": [
      "(200, 100)\n"
     ]
    }
   ],
   "source": [
    "# resize 使用\n",
    "resize = transforms.Resize((100, 200))\n",
    "# 注意，输入的是 PIL.Image，给定的参数是 (height, width)，给定单个值时较小边匹配，输出也是 PIL.Image\n",
    "img_resize = resize(img)\n",
    "writer.add_image('Resize',PIL2Tensor(img_resize), 1)\n",
    "writer.close()\n",
    "print(img_resize.size)"
   ]
  },
  {
   "cell_type": "code",
   "execution_count": null,
   "metadata": {},
   "outputs": [],
   "source": [
    "# compose 使用\n",
    "# 从上面的例子可以看出，每次都要写 transforms.ToTensor()，transforms.Normalize()，transforms.Resize()，很麻烦，可以使用 transforms.Compose() 来将这些操作组合到一起。\n",
    "# 注意，transforms.Compose() 的参数是一个 list，list 中的每个元素是一个 transform 操作，它会将这些操作依次执行。\n",
    "\n",
    "transforms_list = transforms.Compose([\n",
    "    transforms.Resize((100, 200)),\n",
    "    transforms.ToTensor(),\n",
    "    transforms.Normalize(mean=[.5, .5, .5], std=[.5, .5, .5]),\n",
    "])\n",
    "img_compose = transforms_list(img)\n",
    "writer.add_image('Compose', img_compose, 1)\n",
    "writer.close()"
   ]
  }
 ],
 "metadata": {
  "kernelspec": {
   "display_name": "pyt1.13",
   "language": "python",
   "name": "python3"
  },
  "language_info": {
   "codemirror_mode": {
    "name": "ipython",
    "version": 3
   },
   "file_extension": ".py",
   "mimetype": "text/x-python",
   "name": "python",
   "nbconvert_exporter": "python",
   "pygments_lexer": "ipython3",
   "version": "3.9.16"
  },
  "orig_nbformat": 4
 },
 "nbformat": 4,
 "nbformat_minor": 2
}
